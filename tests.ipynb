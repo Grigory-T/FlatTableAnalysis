{
 "cells": [
  {
   "cell_type": "code",
   "execution_count": null,
   "metadata": {},
   "outputs": [],
   "source": [
    "# import sys\n",
    "# import importlib"
   ]
  },
  {
   "cell_type": "code",
   "execution_count": null,
   "metadata": {},
   "outputs": [],
   "source": [
    "# importlib.reload(sys.modules['flattableanalysis'])\n",
    "# importlib.reload(sys.modules['flattableanalysis.flat_table_analysis'])\n",
    "# importlib.reload(sys.modules['flattableanalysis.utils']);"
   ]
  },
  {
   "cell_type": "code",
   "execution_count": 1,
   "metadata": {},
   "outputs": [],
   "source": [
    "import numpy as np\n",
    "import pandas as pd\n",
    "from numpy.random import default_rng; rng = default_rng(42)\n",
    "import math\n",
    "import random\n",
    "import seaborn as sns\n",
    "from IPython.display import clear_output\n",
    "import itertools as it\n",
    "import more_itertools as mit\n",
    "import datetime\n",
    "\n",
    "from flattableanalysis.flat_table_analysis import FlatTableAnalysis\n",
    "from flattableanalysis.utils import wrap_text, powerset, cut_strings, make_unique"
   ]
  },
  {
   "cell_type": "markdown",
   "metadata": {},
   "source": [
    "# Test utils"
   ]
  },
  {
   "cell_type": "code",
   "execution_count": 2,
   "metadata": {},
   "outputs": [],
   "source": [
    "assert wrap_text('0123456789', 5) == '01234\\n56789'"
   ]
  },
  {
   "cell_type": "code",
   "execution_count": 3,
   "metadata": {},
   "outputs": [],
   "source": [
    "assert powerset(10, 2) == math.comb(10, 1) + math.comb(10, 2)"
   ]
  },
  {
   "cell_type": "code",
   "execution_count": 4,
   "metadata": {},
   "outputs": [],
   "source": [
    "try:\n",
    "    cut_strings(['a', 'a'])\n",
    "except ValueError as e:\n",
    "    pass\n",
    "else:\n",
    "    raise Exception"
   ]
  },
  {
   "cell_type": "code",
   "execution_count": 5,
   "metadata": {},
   "outputs": [],
   "source": [
    "try:\n",
    "    cut_strings([1, 2])\n",
    "except TypeError as e:\n",
    "    pass\n",
    "else:\n",
    "    raise Exception"
   ]
  },
  {
   "cell_type": "code",
   "execution_count": 6,
   "metadata": {},
   "outputs": [],
   "source": [
    "assert cut_strings(['abc', 'abcde'], 0) == ['abc', 'abcd']"
   ]
  },
  {
   "cell_type": "code",
   "execution_count": 7,
   "metadata": {},
   "outputs": [],
   "source": [
    "assert make_unique([1, 2, 3, 1, 2, 2]).values.tolist() == ['1_0', '2_0', '3', '1_1', '2_1', '2_2']"
   ]
  },
  {
   "cell_type": "markdown",
   "metadata": {},
   "source": [
    "# Test flat_table_analysis"
   ]
  },
  {
   "cell_type": "code",
   "execution_count": 9,
   "metadata": {},
   "outputs": [],
   "source": [
    "table = sns.load_dataset(\"titanic\", cache=True).drop_duplicates().reset_index(drop=True)"
   ]
  },
  {
   "cell_type": "markdown",
   "metadata": {},
   "source": [
    "### init class"
   ]
  },
  {
   "cell_type": "code",
   "execution_count": 8,
   "metadata": {},
   "outputs": [],
   "source": [
    "for name in sns.get_dataset_names():\n",
    "    FlatTableAnalysis(sns.load_dataset(name, cache=True))\n",
    "clear_output()"
   ]
  },
  {
   "cell_type": "markdown",
   "metadata": {},
   "source": [
    "### candidate key test"
   ]
  },
  {
   "cell_type": "code",
   "execution_count": 10,
   "metadata": {},
   "outputs": [],
   "source": [
    "data = random.sample(list(it.product(range(10), range(10, 20), range(20, 30), range(30, 40))), k=len(table))\n",
    "temp = pd.DataFrame(data)\n",
    "\n",
    "df = pd.concat([table, temp], axis=1)\n",
    "\n",
    "df = df.sample(frac=1)\n",
    "\n",
    "idxs = list(range(df.shape[1]))\n",
    "random.shuffle(idxs)\n",
    "df = df.iloc[:, idxs]\n",
    "\n",
    "fta = FlatTableAnalysis(df)\n",
    "candidate_keys = set(\n",
    "    fta\n",
    "    .get_candidate_keys(4)\n",
    "    .loc[lambda df: df['uniques_frac']==1]\n",
    "    .loc[:, 'col_names']\n",
    ")\n",
    "\n",
    "clear_output()\n",
    "assert set(['0', '1', '2', '3']) in {frozenset(key) for key in candidate_keys}"
   ]
  },
  {
   "cell_type": "markdown",
   "metadata": {},
   "source": [
    "### speed time"
   ]
  },
  {
   "cell_type": "code",
   "execution_count": 11,
   "metadata": {},
   "outputs": [],
   "source": [
    "start_time = datetime.datetime.now()\n",
    "\n",
    "df = pd.DataFrame(rng.integers(0, 100_000, size=(50_000, 100)))\n",
    "fta = FlatTableAnalysis(df)\n",
    "fta.get_candidate_keys(2).head(3)\n",
    "\n",
    "clear_output()\n",
    "if datetime.datetime.now() - start_time > datetime.timedelta(minutes=1, seconds=30):\n",
    "    raise Exception"
   ]
  },
  {
   "cell_type": "markdown",
   "metadata": {},
   "source": [
    "### get determinant test"
   ]
  },
  {
   "cell_type": "code",
   "execution_count": 12,
   "metadata": {},
   "outputs": [],
   "source": [
    "df_1 = pd.DataFrame(random.sample(list(it.product(range(10), range(10, 20), range(20, 30))), \n",
    "                                  k=len(table)//2))\n",
    "df_2 = pd.DataFrame(rng.integers(1, 100, size=len(table)//2), columns=['target'])\n",
    "df_3 = pd.concat([df_1, df_2], axis=1)\n",
    "\n",
    "df_3 = df_3.sample(len(table), replace=True).reset_index(drop=True)\n",
    "\n",
    "df = pd.concat([table, df_3], axis=1)\n",
    "\n",
    "df = df.sample(frac=1)\n",
    "\n",
    "idxs = list(range(df.shape[1]))\n",
    "random.shuffle(idxs)\n",
    "df = df.iloc[:, idxs]\n",
    "\n",
    "fta = FlatTableAnalysis(df)\n",
    "answer = (\n",
    "    fta\n",
    "    .get_cols_determinants(target='target', max_cols=3)\n",
    "    .loc[lambda df: df['frac'] == 1]\n",
    "    .loc[:, 'col_names']\n",
    ")\n",
    "assert set(*answer) == {'0', '1', '2'}\n",
    "clear_output()"
   ]
  },
  {
   "cell_type": "markdown",
   "metadata": {},
   "source": [
    "### set relation test"
   ]
  },
  {
   "cell_type": "code",
   "execution_count": 13,
   "metadata": {},
   "outputs": [
    {
     "name": "stdout",
     "output_type": "stream",
     "text": [
      "remove_constant_columns:  []\n",
      "remove_all_unique_columns:  []\n",
      "remove_one_one_relations:  ['embarked', 'class', 'survived']\n",
      "    found these sets of one-one relations, keep only 1st item from each:  [['embark_town', 'embarked'], ['pclass', 'class'], ['alive', 'survived']]\n",
      "left unique 345, right unique 95, edges 345 (0.01053%)\n",
      "nodes: left fd -> 1.00000, right fd -> 0.10526\n",
      "edges: left fd -> 1.00000, right fd -> 0.02899\n"
     ]
    }
   ],
   "source": [
    "df_1 = pd.DataFrame(random.sample(list(it.product(range(10), range(10, 20), range(20, 30))), \n",
    "                                  k=len(table)//2))\n",
    "df_2 = pd.DataFrame(rng.integers(1, 100, size=len(table)//2), columns=['target'])\n",
    "df_3 = pd.concat([df_1, df_2], axis=1)\n",
    "\n",
    "df_3 = df_3.sample(len(table), replace=True).reset_index(drop=True)\n",
    "\n",
    "df = pd.concat([table, df_3], axis=1)\n",
    "\n",
    "df = df.sample(frac=1)\n",
    "\n",
    "idxs = list(range(df.shape[1]))\n",
    "random.shuffle(idxs)\n",
    "df = df.iloc[:, idxs]\n",
    "\n",
    "fta = FlatTableAnalysis(df)\n",
    "fta.show_set_relation(['0', '1', '2'], 'target')\n",
    "\n",
    "# should be:\n",
    "# nodes: left fd -> 1.00000\n",
    "# edges: left fd -> 1.00000"
   ]
  },
  {
   "cell_type": "markdown",
   "metadata": {},
   "source": [
    "# Sandbox"
   ]
  },
  {
   "cell_type": "code",
   "execution_count": null,
   "metadata": {},
   "outputs": [],
   "source": [
    "body = \"\"\"\n",
    "1 1 1 1 b 4\n",
    "1 2 2 2 b 5\n",
    "1 3 2 2 b 5\n",
    "\"\"\".strip().splitlines()\n",
    "test = pd.DataFrame([line.split() for line in body])\n",
    "display(test)\n",
    "FlatTableAnalysis(test)"
   ]
  },
  {
   "cell_type": "code",
   "execution_count": null,
   "metadata": {},
   "outputs": [],
   "source": [
    "test =  pd.DataFrame([[1], [2], [2]]).astype({0: object})\n",
    "test.iloc[0, 0] = object()\n",
    "display(test)\n",
    "fta = FlatTableAnalysis(test)z\n",
    "fta"
   ]
  },
  {
   "cell_type": "code",
   "execution_count": null,
   "metadata": {},
   "outputs": [],
   "source": [
    "body = \"\"\"\n",
    "1 1 1\n",
    "1 1 1\n",
    "1 1 1\n",
    "\"\"\".strip().splitlines()\n",
    "test = pd.DataFrame([line.split() for line in body])\n",
    "display(test)\n",
    "FlatTableAnalysis(test)"
   ]
  },
  {
   "cell_type": "code",
   "execution_count": null,
   "metadata": {},
   "outputs": [],
   "source": [
    "test =  pd.DataFrame([[1, 2, 3], [4, 5, 6]]).astype(float)\n",
    "test[:] = np.nan\n",
    "display(test)\n",
    "FlatTableAnalysis(test)"
   ]
  },
  {
   "cell_type": "code",
   "execution_count": null,
   "metadata": {},
   "outputs": [],
   "source": [
    "test =  pd.DataFrame([[1, 2, 3], [4, 5, 6]]).astype(object)\n",
    "test[:] = None\n",
    "display(test)\n",
    "fta = FlatTableAnalysis(test)\n",
    "fta"
   ]
  },
  {
   "cell_type": "code",
   "execution_count": null,
   "metadata": {},
   "outputs": [],
   "source": [
    "body = \"\"\"\n",
    "1 2 4\n",
    "1 3 4\n",
    "1 3 5\n",
    "1 3 6\n",
    "1 3 7\n",
    "\"\"\".strip().splitlines()\n",
    "test = pd.DataFrame([line.split() for line in body])\n",
    "test.iloc[[0, 1], 2] = np.nan\n",
    "display(test)\n",
    "fta = FlatTableAnalysis(test)\n",
    "display(fta.df)\n",
    "fta.get_candidate_keys()"
   ]
  },
  {
   "cell_type": "code",
   "execution_count": null,
   "metadata": {},
   "outputs": [],
   "source": [
    "body = \"\"\"\n",
    "1 2 1\n",
    "1 3 2\n",
    "2 4 3\n",
    "2 4 5\n",
    "2 4 5\n",
    "2 6 6\n",
    "\"\"\".strip().splitlines()\n",
    "test = pd.DataFrame([line.split() for line in body])\n",
    "display(test)\n",
    "fta = FlatTableAnalysis(test)\n",
    "display(fta.df)\n",
    "fta.show_fd_graph()[0]"
   ]
  },
  {
   "cell_type": "code",
   "execution_count": null,
   "metadata": {},
   "outputs": [],
   "source": [
    "body = \"\"\"\n",
    "1 1\n",
    "2 2\n",
    "3 3\n",
    "3 4\n",
    "4 5\n",
    "5 5\n",
    "6 7\n",
    "7 7\n",
    "7 9\n",
    "\"\"\".strip().splitlines()\n",
    "test = pd.DataFrame([line.split() for line in body])\n",
    "display(test)\n",
    "fta = FlatTableAnalysis(test)\n",
    "display(fta.df)\n",
    "fta.show_set_relation()"
   ]
  },
  {
   "cell_type": "code",
   "execution_count": null,
   "metadata": {},
   "outputs": [],
   "source": [
    "body = \"\"\"\n",
    "1 2 9 1\n",
    "1 2 1 2\n",
    "1 3 2 1\n",
    "1 4 4 1\n",
    "2 5 3 1\n",
    "2 5 3 2\n",
    "\"\"\".strip().splitlines()\n",
    "test = pd.DataFrame([line.split() for line in body])\n",
    "display(test)\n",
    "fta = FlatTableAnalysis(test)\n",
    "display(fta.df)\n",
    "fta.get_cols_determinants(2, 2)"
   ]
  }
 ],
 "metadata": {
  "kernelspec": {
   "display_name": "Python 3 (ipykernel)",
   "language": "python",
   "name": "python3"
  },
  "language_info": {
   "codemirror_mode": {
    "name": "ipython",
    "version": 3
   },
   "file_extension": ".py",
   "mimetype": "text/x-python",
   "name": "python",
   "nbconvert_exporter": "python",
   "pygments_lexer": "ipython3",
   "version": "3.11.3"
  }
 },
 "nbformat": 4,
 "nbformat_minor": 2
}
